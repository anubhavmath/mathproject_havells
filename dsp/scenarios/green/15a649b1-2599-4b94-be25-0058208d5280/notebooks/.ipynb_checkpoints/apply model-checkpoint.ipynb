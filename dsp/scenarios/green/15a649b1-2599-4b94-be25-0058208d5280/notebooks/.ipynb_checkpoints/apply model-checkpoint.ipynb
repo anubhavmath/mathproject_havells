{
    "cells": [],
    "metadata": {
        "name": "apply model",
        "description": "",
        "scenarioId": "15a649b1-2599-4b94-be25-0058208d5280",
        "createdAt": "2021-08-06T09:21:57Z",
        "createdBy": "manisha",
        "modifiedAt": "2021-08-06T09:21:57Z",
        "modifiedBy": "manisha"
    },
    "nbformat": 4,
    "nbformat_minor": 2
}
